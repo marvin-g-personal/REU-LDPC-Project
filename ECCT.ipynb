{
  "nbformat": 4,
  "nbformat_minor": 0,
  "metadata": {
    "colab": {
      "provenance": [],
      "authorship_tag": "ABX9TyNlMtte1z65MqsEbRODFYzg",
      "include_colab_link": true
    },
    "kernelspec": {
      "name": "python3",
      "display_name": "Python 3"
    },
    "language_info": {
      "name": "python"
    }
  },
  "cells": [
    {
      "cell_type": "markdown",
      "metadata": {
        "id": "view-in-github",
        "colab_type": "text"
      },
      "source": [
        "<a href=\"https://colab.research.google.com/github/pollyjuice74/REU-LDPC-Project/blob/main/ECCT.ipynb\" target=\"_parent\"><img src=\"https://colab.research.google.com/assets/colab-badge.svg\" alt=\"Open In Colab\"/></a>"
      ]
    },
    {
      "cell_type": "code",
      "execution_count": null,
      "metadata": {
        "id": "vTb5SlgZWhE9"
      },
      "outputs": [],
      "source": [
        "!git clone https://github.com/pollyjuice74/ECCT\n",
        "!git clone https://github.com/pollyjuice74/REU-LDPC-Project\n",
        "!git clone https://github.com/pollyjuice74/gnn-decoder\n",
        "\n",
        "!pip install sionna\n",
        "#!pip install torch torch-geometric"
      ]
    },
    {
      "cell_type": "code",
      "source": [
        "import os\n",
        "# Rename folders\n",
        "if os.path.exists('REU-LDPC-Project'):\n",
        "  os.rename('REU-LDPC-Project', 'REU_LDPC_Project')\n",
        "if os.path.exists('gnn-decoder'):\n",
        "  os.rename('gnn-decoder', 'gnn_decoder')"
      ],
      "metadata": {
        "id": "TMSessre_fjk"
      },
      "execution_count": 3,
      "outputs": []
    },
    {
      "cell_type": "code",
      "source": [
        "for i in enc.pcm:\n",
        "  print(i)"
      ],
      "metadata": {
        "id": "rAH0XvkT1Gnr"
      },
      "execution_count": null,
      "outputs": []
    },
    {
      "cell_type": "code",
      "source": [
        "from sionna.fec.ldpc.encoding import LDPC5GEncoder\n",
        "from sionna.fec.ldpc.decoding import LDPC5GDecoder\n",
        "\n",
        "from REU_LDPC_Project.channel import E2EModel\n",
        "\n",
        "# from ECCT.Model import ECC_Transformer\n",
        "from ECCT.Codes import FER, BER # x_pred, x_gt\n",
        "from ECCT.args import pass_args\n",
        "\n",
        "from gnn_decoder.gnn import LDPC5GGNN\n",
        "\n",
        "n, k = (100, 90)\n",
        "args = pass_args()\n",
        "\n",
        "enc = LDPC5GEncoder(k,n)\n",
        "dec = LDPC5GDecoder(enc)\n",
        "\n",
        "# Models\n",
        "gnn = LDPC5GGNN(enc)\n",
        "ecct = ECC_Transformer(args, enc, dec)\n",
        "\n",
        "model = None\n",
        "ch = E2EModel(enc, dec, model)\n",
        "\n"
      ],
      "metadata": {
        "id": "-IKgWCL6W7of"
      },
      "execution_count": null,
      "outputs": []
    },
    {
      "cell_type": "code",
      "source": [
        "class ECC_Transformer(nn.Module):\n",
        "    def __init__(self, args, encoder, decoder, dropout=0):\n",
        "        super(ECC_Transformer, self).__init__()\n",
        "        ####\n",
        "        code = args.code\n",
        "        c = copy.deepcopy\n",
        "        attn = MultiHeadedAttention(args.h, args.d_model)\n",
        "        ff = PositionwiseFeedForward(args.d_model, args.d_model*4, dropout)\n",
        "\n",
        "        # 5G Compliant encoder/decoder\n",
        "        self.encoder5G = encoder\n",
        "        self.decoder5G = decoder\n",
        "\n",
        "        self.src_embed = torch.nn.Parameter(torch.empty(self.encoder5G._n + self.encoder5G.pcm.shape[0], args.d_model)) #(code.n + code.pc_matrix.size(0), args.d_model)))\n",
        "        self.decoder = Encoder(EncoderLayer(\n",
        "            args.d_model, c(attn), c(ff), dropout), args.N_dec)\n",
        "        self.oned_final_embed = torch.nn.Sequential(\n",
        "            *[nn.Linear(args.d_model, 1)])\n",
        "        self.out_fc = nn.Linear(self.encoder5G._n + self.encoder5G.pcm.shape[0], self.encoder5G._n)\n",
        "\n",
        "        self.get_mask(code)\n",
        "        logging.info(f'Mask:\\n {self.src_mask}')\n",
        "        ###\n",
        "        for p in self.parameters():\n",
        "            if p.dim() > 1:\n",
        "                nn.init.xavier_uniform_(p)\n",
        "\n",
        "    def forward(self, magnitude, syndrome):\n",
        "        emb = torch.cat([magnitude, syndrome], -1).unsqueeze(-1)\n",
        "        emb = self.src_embed.unsqueeze(0) * emb\n",
        "        emb = self.decoder(emb, self.src_mask)\n",
        "        return self.out_fc(self.oned_final_embed(emb).squeeze(-1))\n",
        "\n",
        "    def loss(self, z_pred, z2, y):\n",
        "        loss = F.binary_cross_entropy_with_logits(\n",
        "            z_pred, sign_to_bin(torch.sign(z2)))\n",
        "        x_pred = sign_to_bin(torch.sign(-z_pred * torch.sign(y)))\n",
        "        return loss, x_pred\n",
        "\n",
        "    def get_mask(self, code, no_mask=False):\n",
        "        if no_mask:\n",
        "            self.src_mask = None\n",
        "            return\n",
        "\n",
        "        def build_mask(code, encoder):\n",
        "            mask_size = self.encoder5G._n +self.encoder5G.pcm.shape[0]\n",
        "            mask = torch.eye(mask_size, mask_size)\n",
        "            for ii in range(self.encoder5G.pcm.shape[0]):\n",
        "                idx = torch.where(self.encoder5G.pcm[ii] > 0)[0] #code.pc_matrix[ii]\n",
        "                for jj in idx:\n",
        "                    for kk in idx:\n",
        "                        if jj != kk:\n",
        "                            mask[jj, kk] += 1\n",
        "                            mask[kk, jj] += 1\n",
        "                            mask[self.encoder5G._n + ii, jj] += 1\n",
        "                            mask[jj, self.encoder5G._n + ii] += 1\n",
        "            src_mask = ~ (mask > 0).unsqueeze(0).unsqueeze(0)\n",
        "            return src_mask\n",
        "        src_mask = build_mask(code, self.encoder5G)\n",
        "        mask_size = self.encoder5G._n +self.encoder5G.pcm.shape[0]\n",
        "        a = mask_size ** 2\n",
        "        logging.info(\n",
        "            f'Self-Attention Sparsity Ratio={100 * torch.sum((src_mask).int()) / a:0.2f}%, Self-Attention Complexity Ratio={100 * torch.sum((~src_mask).int())//2 / a:0.2f}%')\n",
        "        self.register_buffer('src_mask', src_mask)\n",
        "\n",
        "\n",
        ""
      ],
      "metadata": {
        "id": "Teh1eEQ8Au1m"
      },
      "execution_count": null,
      "outputs": []
    }
  ]
}