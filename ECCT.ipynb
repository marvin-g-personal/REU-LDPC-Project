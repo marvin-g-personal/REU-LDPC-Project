{
  "nbformat": 4,
  "nbformat_minor": 0,
  "metadata": {
    "colab": {
      "provenance": [],
      "authorship_tag": "ABX9TyPX9ss1P8Q0fQmSXA2sgvQB",
      "include_colab_link": true
    },
    "kernelspec": {
      "name": "python3",
      "display_name": "Python 3"
    },
    "language_info": {
      "name": "python"
    }
  },
  "cells": [
    {
      "cell_type": "markdown",
      "metadata": {
        "id": "view-in-github",
        "colab_type": "text"
      },
      "source": [
        "<a href=\"https://colab.research.google.com/github/pollyjuice74/REU-LDPC-Project/blob/main/ECCT.ipynb\" target=\"_parent\"><img src=\"https://colab.research.google.com/assets/colab-badge.svg\" alt=\"Open In Colab\"/></a>"
      ]
    },
    {
      "cell_type": "code",
      "execution_count": null,
      "metadata": {
        "id": "vTb5SlgZWhE9"
      },
      "outputs": [],
      "source": [
        "!git clone https://github.com/pollyjuice74/ECCT\n",
        "!git clone https://github.com/pollyjuice74/REU-LDPC-Project\n",
        "!pip install sionna\n",
        "#!pip install torch torch-geometric\n",
        "\n",
        "from sionna.fec.ldpc.encoding import LDPC5GEncoder\n",
        "from sionna.fec.ldpc.decoding import LDPC5GDecoder\n",
        "\n",
        "import os\n",
        "os.rename('REU-LDPC-Project', 'REU_LDPC_Project') # Causes error if already ran\n"
      ]
    },
    {
      "cell_type": "code",
      "source": [
        "from REU_LDPC_Project.channel import E2EModel\n",
        "\n",
        "from ECCT.Model import ECC_Transformer\n",
        "from ECCT.Codes import FER, BER # x_pred, x_gt\n",
        "from ECCT.args import pass_args\n",
        "\n",
        "n, k = (100, 90)\n",
        "args = pass_args()\n",
        "\n",
        "enc = LDPC5GEncoder(k,n)\n",
        "dec = LDPC5GDecoder(enc)\n",
        "\n",
        "model = ECC_Transformer(args, enc, dec)\n",
        "\n",
        "ch = E2EModel(enc, dec, model)\n",
        "\n"
      ],
      "metadata": {
        "id": "-IKgWCL6W7of"
      },
      "execution_count": null,
      "outputs": []
    }
  ]
}